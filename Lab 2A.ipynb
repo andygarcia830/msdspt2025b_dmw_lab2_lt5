{
 "cells": [
  {
   "cell_type": "markdown",
   "id": "970214dd",
   "metadata": {},
   "source": [
    "# Lab\n",
    "\n",
    "    Partially replicate the results of Avellaneda & Lee 2008"
   ]
  },
  {
   "cell_type": "markdown",
   "id": "47c47a17",
   "metadata": {},
   "source": [
    "# Background - Modern Portfolio Theory (MPT)\n",
    "\n",
    "When handling a portfolio of assets (read: a group of stocks, commodities, etc. that you own), modern portfolio theory was laid out by Harry Markowitz.\n",
    "\n",
    "The core of his theory is that at least some of the assets tend to move with/against a few other assets. It doesn't try to determine *why* they're correlated, they just are.\n",
    "\n",
    "This can be used to quantify both the expected return of a portfolio, as well as its exposure to risk.\n",
    "\n",
    "Ex. A portfolio consisting of several correlated stocks is likely to have the highest expected return as well as the greatest exposure to risk - your profit/loss just depends on whether the market as a whole went up or down.\n",
    "\n",
    "In the Markowitz theory, people are rational and would like to maximize returns while minimizing risk. There is a tradeoff between the two, but people have their own preferences for expected returns or tolerable risk. \n",
    "\n",
    "Constructing an appropriate portfolio is then a constrained optimization problem.\n",
    "\n",
    "Given a desired level of either minimum return or maximum risk, one can calculate the portfolio that satisfies that request while either minimizing risk or maximizing return respectively (this is the [efficient frontier](https://plotly.com/python/v3/ipython-notebooks/markowitz-portfolio-optimization/)).\n",
    "\n",
    "<img src=\"EfficientFrontier.png\" style=\"width: 50em\" />\n",
    "\n",
    "One general result of MPT is that, at fixed return, a diversified portfolio is much more risk-tolerant than the alternative - don't put all your eggs in one basket.\n",
    "\n",
    "That said, there is still a degree of *market* risk in making portfolios because the market as a whole moves; the degree to which the market is involved in a stock's risk and return would be the $\\beta$-terms in section 2 of the paper\n",
    "\n",
    "*Directional* trading strategies are strategies that generate returns depending on market movements ($\\beta$ ~ 1) like investing in an index fund.\n",
    "\n",
    "*Market-neutral* trading strategies are trading strategies which try to decorrelate from the market ($\\beta \\rightarrow$ 0) and their returns are ideally coming just from the stocks themselves."
   ]
  },
  {
   "cell_type": "markdown",
   "id": "56cb212b",
   "metadata": {},
   "source": [
    "# Paper\n",
    "\n",
    "Avellaneda and Lee proposed a market-neutral trading strategy utilising PCA.\n",
    "\n",
    "The general idea is that historical price data includes movements due to noise/random processes as well as actual information.\n",
    "\n",
    "By analyzing how groups of stocks move together, you can find recover that information and find patterns where you bet on some industries and against others in order to generate a profit with lower theoretical risk (i.e. arbitrage).\n",
    "\n",
    "Directly analyzing all of the market data, or even the S&P500 indices, is impractical.  \n",
    "\n",
    "Hence dimensionality reduction (PCA) is used to extract the relevant information from a collection of stocks, from which they can construct a trading strategy.\n",
    "\n",
    "They find that the first eigenportfolio is associated to the market portfolio, which has the largest exposure to market risk.\n",
    "\n",
    "All other portfolios, being orthogonal to it, are uncorrelated with it and are theoretically market-neutral. "
   ]
  },
  {
   "cell_type": "markdown",
   "id": "2e114910",
   "metadata": {},
   "source": [
    "# Goals\n",
    "\n",
    "    Basic: \n",
    "    \n",
    "Get the price data for the S&P500 from at least 2000 onward (try `yfinance`) and repeat the PCA analysis. Specifically, remake figures 1-6.\n",
    "    \n",
    "Then interpret the meaning of the eigenportfolios (the first is the market portfolio, as mentioned in the paper)\n",
    "\n",
    "    Advanced: \n",
    "\n",
    "1.) Do PCA over some time directly after your data and see if the results change significantly. In particular, check the variance explained by a fixed number of PCA eigenvectors.\n",
    "\n",
    "2.) Explicitly check that the returns of the eigenportfolios are uncorrelated.\n",
    "\n",
    "3.) Find where your portfolios relative to the efficient frontier."
   ]
  },
  {
   "cell_type": "markdown",
   "id": "20ea3de8",
   "metadata": {},
   "source": [
    "# Optional Followup\n",
    "\n",
    "**Trading and Backtesting**\n",
    "\n",
    "Statistical arbitrage encompasses trading strategies where returns are generated through market mispricings, determined statistically.\n",
    "\n",
    "From the paper \"the idea is to make many bets with positive expected returns, taking advantage of diversification across stocks, to produce a low-volatility investment strategy which is uncorrelated with the market.\"\n",
    "\n",
    "In the paper, the strategy they use is based on [mean-reversion](https://medium.com/auquan/mean-reversion-simple-trading-strategies-part-1-a18a87c1196a).\n",
    "\n",
    "The price of an item can temporarily deviate from the \"fair\" price because of some noise or a market overreaction, but eventually the market will realize that and revert the price change.\n",
    "\n",
    "The way the \"fair\" price is determined can vary, but usually it's measured by taking a moving average within a window of time. \n",
    "\n",
    "In the image below, it's done with the 90 day average, while the recent behavior is measured with a 30 day average, and the crossover between them is the signal to either buy or sell. \n",
    "\n",
    "<img src=\"MA.png\" style=\"width: 50em\" />\n",
    "\n",
    "By all means, pick a trading strategy (mean reversion, momentum, Laguerre RSI, etc.), balance the portfolio with your PCA results, then backtest it to recreate the other parts of the paper.\n",
    "\n",
    "In particular, find the Sharpe ratios, the ratio of excess return and risk, to evaluate performance. \n",
    "\n",
    "Here, excess return is the portfolio return minus the theoretical rate of return of an investment with zero risk (like a treasury bond). \n",
    "\n",
    "Somewhere around 1 is generally considered a good Sharpe ratio.\n",
    "\n",
    "**Random Matrix Theory (RMT)**\n",
    "\n",
    "One of the problems of getting an empirical correlation matrix is noise. This is due to the limits on data sampling.\n",
    "\n",
    "You want to get enough data points s.t. it is well-sampled in a statistical sense, but you can't wait too long or the market will move and your data is no longer representative.\n",
    "\n",
    "There is unfortunately not much we can do regarding data frequency (yet), but the next best option is to check how contaminated our measurements are by noise to try to filter it out.\n",
    "\n",
    "That is to say, assuming our correlation measurements are purely noise, what would we expect to get and how different is that from what we actually have.\n",
    "\n",
    "It turns out that sufficiently large matrices with random entries produce eigenvalues that follow specific distributions depending on symmetry and the aspect ratio of the matrix (e.g. the Marchenko-Pastur distribution).\n",
    "\n",
    "This tells us that large deviations from the random matrix's distribution contain real information that we could potentially recover, while everything within the distribution likely contains no useful information whatsoever.\n",
    "\n",
    "Some results in the literature: \n",
    "\n",
    "    1.) Eigenvalues below some threshold are there simply due to noise, and the associated portfolios should be discarded.\n",
    "    2.) Risk tends to be underestimated with the empirical correlation matrix (~ 1.5x difference)"
   ]
  },
  {
   "cell_type": "code",
   "execution_count": null,
   "id": "aa7c1e6f",
   "metadata": {},
   "outputs": [],
   "source": []
  }
 ],
 "metadata": {
  "kernelspec": {
   "display_name": "Python 3 (ipykernel)",
   "language": "python",
   "name": "python3"
  },
  "language_info": {
   "codemirror_mode": {
    "name": "ipython",
    "version": 3
   },
   "file_extension": ".py",
   "mimetype": "text/x-python",
   "name": "python",
   "nbconvert_exporter": "python",
   "pygments_lexer": "ipython3",
   "version": "3.11.4"
  }
 },
 "nbformat": 4,
 "nbformat_minor": 5
}
